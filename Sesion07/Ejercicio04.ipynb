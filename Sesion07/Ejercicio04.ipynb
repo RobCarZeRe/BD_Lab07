{
    "metadata": {
        "kernelspec": {
            "name": "SQL",
            "display_name": "SQL",
            "language": "sql"
        },
        "language_info": {
            "name": "sql",
            "version": ""
        }
    },
    "nbformat_minor": 2,
    "nbformat": 4,
    "cells": [
        {
            "cell_type": "code",
            "source": "USE master;\r\nGO\r\nCREATE SERVER AUDIT File_Audit \r\n    TO FILE (FILEPATH='D:\\Data\\')\r\n    WITH (QUEUE_DELAY = 5000);\r\nGO\r\nALTER SERVER AUDIT File_Audit WITH (STATE = ON);\r\nGO",
            "metadata": {},
            "outputs": [
                {
                    "output_type": "display_data",
                    "data": {
                        "text/html": "Commands completed successfully."
                    },
                    "metadata": {}
                },
                {
                    "output_type": "display_data",
                    "data": {
                        "text/html": "Commands completed successfully."
                    },
                    "metadata": {}
                },
                {
                    "output_type": "display_data",
                    "data": {
                        "text/html": "Commands completed successfully."
                    },
                    "metadata": {}
                },
                {
                    "output_type": "display_data",
                    "data": {
                        "text/html": "Total execution time: 00:00:00.004"
                    },
                    "metadata": {}
                }
            ],
            "execution_count": 1
        },
        {
            "cell_type": "code",
            "source": "CREATE SERVER AUDIT AppLog_Audit \r\n    TO APPLICATION_LOG\r\n    WITH (QUEUE_DELAY = 5000);\r\nGO\r\nALTER SERVER AUDIT AppLog_Audit WITH (STATE = ON);\r\nGO",
            "metadata": {},
            "outputs": [
                {
                    "output_type": "display_data",
                    "data": {
                        "text/html": "Commands completed successfully."
                    },
                    "metadata": {}
                },
                {
                    "output_type": "display_data",
                    "data": {
                        "text/html": "Commands completed successfully."
                    },
                    "metadata": {}
                },
                {
                    "output_type": "display_data",
                    "data": {
                        "text/html": "Total execution time: 00:00:00.001"
                    },
                    "metadata": {}
                }
            ],
            "execution_count": 2
        },
        {
            "cell_type": "code",
            "source": "USE salesapp1;\r\nGO\r\nCREATE DATABASE AUDIT SPECIFICATION sales_select_spec_file\r\nFOR SERVER AUDIT File_Audit\r\nADD (SELECT ON SCHEMA::Sales BY public)\r\nWITH (STATE = ON);\r\nGO\r\n\r\nCREATE DATABASE AUDIT SPECIFICATION sales_select_spec_applog\r\nFOR SERVER AUDIT AppLog_Audit\r\nADD (SELECT ON SCHEMA::Sales BY public)\r\nWITH (STATE = ON);\r\nGO",
            "metadata": {},
            "outputs": [
                {
                    "output_type": "display_data",
                    "data": {
                        "text/html": "Commands completed successfully."
                    },
                    "metadata": {}
                },
                {
                    "output_type": "display_data",
                    "data": {
                        "text/html": "Commands completed successfully."
                    },
                    "metadata": {}
                },
                {
                    "output_type": "display_data",
                    "data": {
                        "text/html": "Commands completed successfully."
                    },
                    "metadata": {}
                },
                {
                    "output_type": "display_data",
                    "data": {
                        "text/html": "Total execution time: 00:00:00.001"
                    },
                    "metadata": {}
                }
            ],
            "execution_count": 3
        },
        {
            "cell_type": "code",
            "source": "\r\nSELECT TOP 10 * FROM Sales.Customers;\r\nGO",
            "metadata": {},
            "outputs": [
                {
                    "output_type": "display_data",
                    "data": {
                        "text/html": "(10 rows affected)"
                    },
                    "metadata": {}
                },
                {
                    "output_type": "display_data",
                    "data": {
                        "text/html": "Total execution time: 00:00:00.008"
                    },
                    "metadata": {}
                },
                {
                    "output_type": "execute_result",
                    "metadata": {},
                    "execution_count": 4,
                    "data": {
                        "application/vnd.dataresource+json": {
                            "schema": {
                                "fields": [
                                    {
                                        "name": "custid"
                                    },
                                    {
                                        "name": "companyname"
                                    },
                                    {
                                        "name": "contactname"
                                    },
                                    {
                                        "name": "contacttitle"
                                    },
                                    {
                                        "name": "address"
                                    },
                                    {
                                        "name": "city"
                                    },
                                    {
                                        "name": "region"
                                    },
                                    {
                                        "name": "postalcode"
                                    },
                                    {
                                        "name": "country"
                                    },
                                    {
                                        "name": "phone"
                                    },
                                    {
                                        "name": "fax"
                                    }
                                ]
                            },
                            "data": [
                                {
                                    "0": "1",
                                    "1": "Customer NRZBB",
                                    "2": "Allen, Michael",
                                    "3": "Sales Representative",
                                    "4": "Obere Str. 0123",
                                    "5": "Berlin",
                                    "6": "NULL",
                                    "7": "10092",
                                    "8": "Germany",
                                    "9": "030-3456789",
                                    "10": "030-0123456"
                                },
                                {
                                    "0": "2",
                                    "1": "Customer MLTDN",
                                    "2": "Hassall, Mark",
                                    "3": "Owner",
                                    "4": "Avda. de la Constitución 5678",
                                    "5": "México D.F.",
                                    "6": "NULL",
                                    "7": "10077",
                                    "8": "Mexico",
                                    "9": "(5) 789-0123",
                                    "10": "(5) 456-7890"
                                },
                                {
                                    "0": "3",
                                    "1": "Customer KBUDE",
                                    "2": "Peoples, John",
                                    "3": "Owner",
                                    "4": "Mataderos  7890",
                                    "5": "México D.F.",
                                    "6": "NULL",
                                    "7": "10097",
                                    "8": "Mexico",
                                    "9": "(5) 123-4567",
                                    "10": "NULL"
                                },
                                {
                                    "0": "4",
                                    "1": "Customer HFBZG",
                                    "2": "Arndt, Torsten",
                                    "3": "Sales Representative",
                                    "4": "7890 Hanover Sq.",
                                    "5": "London",
                                    "6": "NULL",
                                    "7": "10046",
                                    "8": "UK",
                                    "9": "(171) 456-7890",
                                    "10": "(171) 456-7891"
                                },
                                {
                                    "0": "5",
                                    "1": "Customer HGVLZ",
                                    "2": "Higginbotham, Tom",
                                    "3": "Order Administrator",
                                    "4": "Berguvsvägen  5678",
                                    "5": "Luleå",
                                    "6": "NULL",
                                    "7": "10112",
                                    "8": "Sweden",
                                    "9": "0921-67 89 01",
                                    "10": "0921-23 45 67"
                                },
                                {
                                    "0": "6",
                                    "1": "Customer XHXJV",
                                    "2": "Poland, Carole",
                                    "3": "Sales Representative",
                                    "4": "Forsterstr. 7890",
                                    "5": "Mannheim",
                                    "6": "NULL",
                                    "7": "10117",
                                    "8": "Germany",
                                    "9": "0621-67890",
                                    "10": "0621-12345"
                                },
                                {
                                    "0": "7",
                                    "1": "Customer QXVLA",
                                    "2": "Bansal, Dushyant",
                                    "3": "Marketing Manager",
                                    "4": "2345, place Kléber",
                                    "5": "Strasbourg",
                                    "6": "NULL",
                                    "7": "10089",
                                    "8": "France",
                                    "9": "67.89.01.23",
                                    "10": "67.89.01.24"
                                },
                                {
                                    "0": "8",
                                    "1": "Customer QUHWH",
                                    "2": "Ilyina, Julia",
                                    "3": "Owner",
                                    "4": "C/ Araquil, 0123",
                                    "5": "Madrid",
                                    "6": "NULL",
                                    "7": "10104",
                                    "8": "Spain",
                                    "9": "(91) 345 67 89",
                                    "10": "(91) 012 34 56"
                                },
                                {
                                    "0": "9",
                                    "1": "Customer RTXGC",
                                    "2": "Raghav, Amritansh",
                                    "3": "Owner",
                                    "4": "6789, rue des Bouchers",
                                    "5": "Marseille",
                                    "6": "NULL",
                                    "7": "10105",
                                    "8": "France",
                                    "9": "23.45.67.89",
                                    "10": "23.45.67.80"
                                },
                                {
                                    "0": "10",
                                    "1": "Customer EEALV",
                                    "2": "Bassols, Pilar Colome",
                                    "3": "Accounting Manager",
                                    "4": "8901 Tsawassen Blvd.",
                                    "5": "Tsawassen",
                                    "6": "BC",
                                    "7": "10111",
                                    "8": "Canada",
                                    "9": "(604) 901-2345",
                                    "10": "(604) 678-9012"
                                }
                            ]
                        },
                        "text/html": "<table><tr><th>custid</th><th>companyname</th><th>contactname</th><th>contacttitle</th><th>address</th><th>city</th><th>region</th><th>postalcode</th><th>country</th><th>phone</th><th>fax</th></tr><tr><td>1</td><td>Customer NRZBB</td><td>Allen, Michael</td><td>Sales Representative</td><td>Obere Str. 0123</td><td>Berlin</td><td>NULL</td><td>10092</td><td>Germany</td><td>030-3456789</td><td>030-0123456</td></tr><tr><td>2</td><td>Customer MLTDN</td><td>Hassall, Mark</td><td>Owner</td><td>Avda. de la Constitución 5678</td><td>México D.F.</td><td>NULL</td><td>10077</td><td>Mexico</td><td>(5) 789-0123</td><td>(5) 456-7890</td></tr><tr><td>3</td><td>Customer KBUDE</td><td>Peoples, John</td><td>Owner</td><td>Mataderos  7890</td><td>México D.F.</td><td>NULL</td><td>10097</td><td>Mexico</td><td>(5) 123-4567</td><td>NULL</td></tr><tr><td>4</td><td>Customer HFBZG</td><td>Arndt, Torsten</td><td>Sales Representative</td><td>7890 Hanover Sq.</td><td>London</td><td>NULL</td><td>10046</td><td>UK</td><td>(171) 456-7890</td><td>(171) 456-7891</td></tr><tr><td>5</td><td>Customer HGVLZ</td><td>Higginbotham, Tom</td><td>Order Administrator</td><td>Berguvsvägen  5678</td><td>Luleå</td><td>NULL</td><td>10112</td><td>Sweden</td><td>0921-67 89 01</td><td>0921-23 45 67</td></tr><tr><td>6</td><td>Customer XHXJV</td><td>Poland, Carole</td><td>Sales Representative</td><td>Forsterstr. 7890</td><td>Mannheim</td><td>NULL</td><td>10117</td><td>Germany</td><td>0621-67890</td><td>0621-12345</td></tr><tr><td>7</td><td>Customer QXVLA</td><td>Bansal, Dushyant</td><td>Marketing Manager</td><td>2345, place Kléber</td><td>Strasbourg</td><td>NULL</td><td>10089</td><td>France</td><td>67.89.01.23</td><td>67.89.01.24</td></tr><tr><td>8</td><td>Customer QUHWH</td><td>Ilyina, Julia</td><td>Owner</td><td>C/ Araquil, 0123</td><td>Madrid</td><td>NULL</td><td>10104</td><td>Spain</td><td>(91) 345 67 89</td><td>(91) 012 34 56</td></tr><tr><td>9</td><td>Customer RTXGC</td><td>Raghav, Amritansh</td><td>Owner</td><td>6789, rue des Bouchers</td><td>Marseille</td><td>NULL</td><td>10105</td><td>France</td><td>23.45.67.89</td><td>23.45.67.80</td></tr><tr><td>10</td><td>Customer EEALV</td><td>Bassols, Pilar Colome</td><td>Accounting Manager</td><td>8901 Tsawassen Blvd.</td><td>Tsawassen</td><td>BC</td><td>10111</td><td>Canada</td><td>(604) 901-2345</td><td>(604) 678-9012</td></tr></table>"
                    }
                }
            ],
            "execution_count": 4
        },
        {
            "cell_type": "code",
            "source": "SELECT *\r\nFROM sys.fn_get_audit_file ('D:\\Data\\File_Audit*',default,default)",
            "metadata": {},
            "outputs": [
                {
                    "output_type": "display_data",
                    "data": {
                        "text/html": "(2 rows affected)"
                    },
                    "metadata": {}
                },
                {
                    "output_type": "display_data",
                    "data": {
                        "text/html": "Total execution time: 00:00:00.016"
                    },
                    "metadata": {}
                },
                {
                    "output_type": "execute_result",
                    "metadata": {},
                    "execution_count": 6,
                    "data": {
                        "application/vnd.dataresource+json": {
                            "schema": {
                                "fields": [
                                    {
                                        "name": "event_time"
                                    },
                                    {
                                        "name": "sequence_number"
                                    },
                                    {
                                        "name": "action_id"
                                    },
                                    {
                                        "name": "succeeded"
                                    },
                                    {
                                        "name": "permission_bitmask"
                                    },
                                    {
                                        "name": "is_column_permission"
                                    },
                                    {
                                        "name": "session_id"
                                    },
                                    {
                                        "name": "server_principal_id"
                                    },
                                    {
                                        "name": "database_principal_id"
                                    },
                                    {
                                        "name": "target_server_principal_id"
                                    },
                                    {
                                        "name": "target_database_principal_id"
                                    },
                                    {
                                        "name": "object_id"
                                    },
                                    {
                                        "name": "class_type"
                                    },
                                    {
                                        "name": "session_server_principal_name"
                                    },
                                    {
                                        "name": "server_principal_name"
                                    },
                                    {
                                        "name": "server_principal_sid"
                                    },
                                    {
                                        "name": "database_principal_name"
                                    },
                                    {
                                        "name": "target_server_principal_name"
                                    },
                                    {
                                        "name": "target_server_principal_sid"
                                    },
                                    {
                                        "name": "target_database_principal_name"
                                    },
                                    {
                                        "name": "server_instance_name"
                                    },
                                    {
                                        "name": "database_name"
                                    },
                                    {
                                        "name": "schema_name"
                                    },
                                    {
                                        "name": "object_name"
                                    },
                                    {
                                        "name": "statement"
                                    },
                                    {
                                        "name": "additional_information"
                                    },
                                    {
                                        "name": "file_name"
                                    },
                                    {
                                        "name": "audit_file_offset"
                                    },
                                    {
                                        "name": "user_defined_event_id"
                                    },
                                    {
                                        "name": "user_defined_information"
                                    },
                                    {
                                        "name": "audit_schema_version"
                                    },
                                    {
                                        "name": "sequence_group_id"
                                    },
                                    {
                                        "name": "transaction_id"
                                    },
                                    {
                                        "name": "client_ip"
                                    },
                                    {
                                        "name": "application_name"
                                    },
                                    {
                                        "name": "duration_milliseconds"
                                    },
                                    {
                                        "name": "response_rows"
                                    },
                                    {
                                        "name": "affected_rows"
                                    }
                                ]
                            },
                            "data": [
                                {
                                    "0": "2019-07-07 18:33:37.8648164",
                                    "1": "1",
                                    "2": "AUSC",
                                    "3": "1",
                                    "4": "0x00000000000000000000000000000000",
                                    "5": "0",
                                    "6": "149",
                                    "7": "259",
                                    "8": "0",
                                    "9": "0",
                                    "10": "0",
                                    "11": "0",
                                    "12": "A ",
                                    "13": "DESKTOP-G2QLUNH\\Usuario",
                                    "14": "DESKTOP-G2QLUNH\\Usuario",
                                    "15": "0x010500000000000515000000EF0393C1F0D3EF81AD1825AEE9030000",
                                    "16": "",
                                    "17": "",
                                    "18": "NULL",
                                    "19": "",
                                    "20": "DESKTOP-G2QLUNH",
                                    "21": "",
                                    "22": "",
                                    "23": "",
                                    "24": "",
                                    "25": "<action_info xmlns=\"http://schemas.microsoft.com/sqlserver/2008/sqlaudit_data\"><session><![CDATA[File_Audit$A]]></session><action>event enabled</action><startup_type>manual</startup_type><object><![CDATA[audit_event]]></object></action_info>",
                                    "26": "D:\\Data\\File_Audit_5A287D7D-F91A-4C57-B555-852D731B73F5_0_132069980178620000.sqlaudit",
                                    "27": "5632",
                                    "28": "0",
                                    "29": "",
                                    "30": "1",
                                    "31": "0x00000000000000000000000000000000",
                                    "32": "0",
                                    "33": "local machine",
                                    "34": "",
                                    "35": "0",
                                    "36": "0",
                                    "37": "0"
                                },
                                {
                                    "0": "2019-07-07 18:36:06.7199218",
                                    "1": "1",
                                    "2": "SL  ",
                                    "3": "1",
                                    "4": "0x00000000000000000000000000000001",
                                    "5": "1",
                                    "6": "149",
                                    "7": "259",
                                    "8": "1",
                                    "9": "0",
                                    "10": "0",
                                    "11": "485576768",
                                    "12": "U ",
                                    "13": "DESKTOP-G2QLUNH\\Usuario",
                                    "14": "DESKTOP-G2QLUNH\\Usuario",
                                    "15": "0x010500000000000515000000EF0393C1F0D3EF81AD1825AEE9030000",
                                    "16": "dbo",
                                    "17": "",
                                    "18": "NULL",
                                    "19": "",
                                    "20": "DESKTOP-G2QLUNH",
                                    "21": "salesapp1",
                                    "22": "Sales",
                                    "23": "Customers",
                                    "24": "SELECT TOP 10 * FROM Sales.Customers",
                                    "25": "",
                                    "26": "D:\\Data\\File_Audit_5A287D7D-F91A-4C57-B555-852D731B73F5_0_132069980178620000.sqlaudit",
                                    "27": "6656",
                                    "28": "0",
                                    "29": "",
                                    "30": "1",
                                    "31": "0x58959AFD0446E540944FD65C7D2A0E5B",
                                    "32": "255601",
                                    "33": "local machine",
                                    "34": "azdata-Query",
                                    "35": "0",
                                    "36": "0",
                                    "37": "0"
                                }
                            ]
                        },
                        "text/html": "<table><tr><th>event_time</th><th>sequence_number</th><th>action_id</th><th>succeeded</th><th>permission_bitmask</th><th>is_column_permission</th><th>session_id</th><th>server_principal_id</th><th>database_principal_id</th><th>target_server_principal_id</th><th>target_database_principal_id</th><th>object_id</th><th>class_type</th><th>session_server_principal_name</th><th>server_principal_name</th><th>server_principal_sid</th><th>database_principal_name</th><th>target_server_principal_name</th><th>target_server_principal_sid</th><th>target_database_principal_name</th><th>server_instance_name</th><th>database_name</th><th>schema_name</th><th>object_name</th><th>statement</th><th>additional_information</th><th>file_name</th><th>audit_file_offset</th><th>user_defined_event_id</th><th>user_defined_information</th><th>audit_schema_version</th><th>sequence_group_id</th><th>transaction_id</th><th>client_ip</th><th>application_name</th><th>duration_milliseconds</th><th>response_rows</th><th>affected_rows</th></tr><tr><td>2019-07-07 18:33:37.8648164</td><td>1</td><td>AUSC</td><td>1</td><td>0x00000000000000000000000000000000</td><td>0</td><td>149</td><td>259</td><td>0</td><td>0</td><td>0</td><td>0</td><td>A </td><td>DESKTOP-G2QLUNH\\Usuario</td><td>DESKTOP-G2QLUNH\\Usuario</td><td>0x010500000000000515000000EF0393C1F0D3EF81AD1825AEE9030000</td><td></td><td></td><td>NULL</td><td></td><td>DESKTOP-G2QLUNH</td><td></td><td></td><td></td><td></td><td>&lt;action_info xmlns=&quot;http://schemas.microsoft.com/sqlserver/2008/sqlaudit_data&quot;&gt;&lt;session&gt;&lt;![CDATA[File_Audit$A]]&gt;&lt;/session&gt;&lt;action&gt;event enabled&lt;/action&gt;&lt;startup_type&gt;manual&lt;/startup_type&gt;&lt;object&gt;&lt;![CDATA[audit_event]]&gt;&lt;/object&gt;&lt;/action_info&gt;</td><td>D:\\Data\\File_Audit_5A287D7D-F91A-4C57-B555-852D731B73F5_0_132069980178620000.sqlaudit</td><td>5632</td><td>0</td><td></td><td>1</td><td>0x00000000000000000000000000000000</td><td>0</td><td>local machine</td><td></td><td>0</td><td>0</td><td>0</td></tr><tr><td>2019-07-07 18:36:06.7199218</td><td>1</td><td>SL  </td><td>1</td><td>0x00000000000000000000000000000001</td><td>1</td><td>149</td><td>259</td><td>1</td><td>0</td><td>0</td><td>485576768</td><td>U </td><td>DESKTOP-G2QLUNH\\Usuario</td><td>DESKTOP-G2QLUNH\\Usuario</td><td>0x010500000000000515000000EF0393C1F0D3EF81AD1825AEE9030000</td><td>dbo</td><td></td><td>NULL</td><td></td><td>DESKTOP-G2QLUNH</td><td>salesapp1</td><td>Sales</td><td>Customers</td><td>SELECT TOP 10 * FROM Sales.Customers</td><td></td><td>D:\\Data\\File_Audit_5A287D7D-F91A-4C57-B555-852D731B73F5_0_132069980178620000.sqlaudit</td><td>6656</td><td>0</td><td></td><td>1</td><td>0x58959AFD0446E540944FD65C7D2A0E5B</td><td>255601</td><td>local machine</td><td>azdata-Query</td><td>0</td><td>0</td><td>0</td></tr></table>"
                    }
                }
            ],
            "execution_count": 6
        },
        {
            "cell_type": "code",
            "source": "ALTER DATABASE AUDIT SPECIFICATION sales_select_spec_applog WITH (STATE = OFF);\r\nDROP DATABASE AUDIT SPECIFICATION sales_select_spec_applog;\r\nALTER DATABASE AUDIT SPECIFICATION sales_select_spec_file WITH (STATE = OFF);\r\nDROP DATABASE AUDIT SPECIFICATION sales_select_spec_file;\r\nGO\r\nUSE master;\r\nALTER SERVER AUDIT AppLog_Audit WITH (STATE = OFF);\r\nDROP SERVER AUDIT AppLog_Audit;\r\nALTER SERVER AUDIT File_Audit WITH (STATE = OFF);\r\nDROP SERVER AUDIT File_Audit;\r\nGO",
            "metadata": {},
            "outputs": [
                {
                    "output_type": "display_data",
                    "data": {
                        "text/html": "Commands completed successfully."
                    },
                    "metadata": {}
                },
                {
                    "output_type": "display_data",
                    "data": {
                        "text/html": "Commands completed successfully."
                    },
                    "metadata": {}
                },
                {
                    "output_type": "display_data",
                    "data": {
                        "text/html": "Total execution time: 00:00:00.044"
                    },
                    "metadata": {}
                }
            ],
            "execution_count": 0
        }
    ]
}