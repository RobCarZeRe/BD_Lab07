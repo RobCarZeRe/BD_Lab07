{
    "metadata": {
        "kernelspec": {
            "name": "SQL",
            "display_name": "SQL",
            "language": "sql"
        },
        "language_info": {
            "name": "sql",
            "version": ""
        }
    },
    "nbformat_minor": 2,
    "nbformat": 4,
    "cells": [
        {
            "cell_type": "code",
            "source": "USE master;\r\nGO\r\nCREATE SERVER AUDIT MIASQL_Audit \r\n    TO FILE (FILEPATH='D:\\Data\\')\r\n    WITH (QUEUE_DELAY = 5000);\r\nGO",
            "metadata": {},
            "outputs": [
                {
                    "output_type": "display_data",
                    "data": {
                        "text/html": "Commands completed successfully."
                    },
                    "metadata": {}
                },
                {
                    "output_type": "display_data",
                    "data": {
                        "text/html": "Commands completed successfully."
                    },
                    "metadata": {}
                },
                {
                    "output_type": "display_data",
                    "data": {
                        "text/html": "Total execution time: 00:00:00.001"
                    },
                    "metadata": {}
                }
            ],
            "execution_count": 2
        },
        {
            "cell_type": "code",
            "source": "ALTER SERVER AUDIT MIASQL_Audit WITH (STATE = ON);\r\nGO",
            "metadata": {},
            "outputs": [
                {
                    "output_type": "display_data",
                    "data": {
                        "text/html": "Commands completed successfully."
                    },
                    "metadata": {}
                },
                {
                    "output_type": "display_data",
                    "data": {
                        "text/html": "Total execution time: 00:00:00.037"
                    },
                    "metadata": {}
                }
            ],
            "execution_count": 3
        },
        {
            "cell_type": "code",
            "source": "CREATE SERVER AUDIT SPECIFICATION AuditLogins\r\nFOR SERVER AUDIT MIASQL_Audit\r\nADD (FAILED_LOGIN_GROUP),\r\nADD (SUCCESSFUL_LOGIN_GROUP)\r\nWITH (STATE = ON);\r\nGO",
            "metadata": {},
            "outputs": [
                {
                    "output_type": "display_data",
                    "data": {
                        "text/html": "Commands completed successfully."
                    },
                    "metadata": {}
                },
                {
                    "output_type": "display_data",
                    "data": {
                        "text/html": "Total execution time: 00:00:00.001"
                    },
                    "metadata": {}
                }
            ],
            "execution_count": 4
        },
        {
            "cell_type": "code",
            "source": "USE salesapp1;\r\nGO\r\nCREATE DATABASE AUDIT SPECIFICATION salesapp1_audit_spec\r\nFOR SERVER AUDIT MIASQL_Audit\r\nADD (INSERT,UPDATE ON DATABASE::salesapp1 BY public),\r\nADD (SELECT ON SCHEMA::HR BY public),\r\nADD (SCHEMA_OBJECT_CHANGE_GROUP)\r\nWITH (STATE = ON);\r\nGO",
            "metadata": {},
            "outputs": [
                {
                    "output_type": "display_data",
                    "data": {
                        "text/html": "Commands completed successfully."
                    },
                    "metadata": {}
                },
                {
                    "output_type": "display_data",
                    "data": {
                        "text/html": "Commands completed successfully."
                    },
                    "metadata": {}
                },
                {
                    "output_type": "display_data",
                    "data": {
                        "text/html": "Total execution time: 00:00:00.002"
                    },
                    "metadata": {}
                }
            ],
            "execution_count": 5
        },
        {
            "cell_type": "code",
            "source": "USE salesapp1\r\nGO\r\nALTER DATABASE AUDIT SPECIFICATION salesapp1_audit_spec WITH (STATE = OFF);\r\nGO\r\nALTER DATABASE AUDIT SPECIFICATION salesapp1_audit_spec\r\nADD (SCHEMA_OBJECT_PERMISSION_CHANGE_GROUP)\r\nWITH (STATE = ON);\r\nGO",
            "metadata": {},
            "outputs": [
                {
                    "output_type": "display_data",
                    "data": {
                        "text/html": "Commands completed successfully."
                    },
                    "metadata": {}
                },
                {
                    "output_type": "display_data",
                    "data": {
                        "text/html": "Commands completed successfully."
                    },
                    "metadata": {}
                },
                {
                    "output_type": "display_data",
                    "data": {
                        "text/html": "Commands completed successfully."
                    },
                    "metadata": {}
                },
                {
                    "output_type": "display_data",
                    "data": {
                        "text/html": "Total execution time: 00:00:00.001"
                    },
                    "metadata": {}
                }
            ],
            "execution_count": 6
        },
        {
            "cell_type": "code",
            "source": "\r\nSELECT * FROM sys.server_audits;",
            "metadata": {},
            "outputs": [
                {
                    "output_type": "display_data",
                    "data": {
                        "text/html": "(1 row affected)"
                    },
                    "metadata": {}
                },
                {
                    "output_type": "display_data",
                    "data": {
                        "text/html": "Total execution time: 00:00:00.019"
                    },
                    "metadata": {}
                },
                {
                    "output_type": "execute_result",
                    "metadata": {},
                    "execution_count": 7,
                    "data": {
                        "application/vnd.dataresource+json": {
                            "schema": {
                                "fields": [
                                    {
                                        "name": "audit_id"
                                    },
                                    {
                                        "name": "name"
                                    },
                                    {
                                        "name": "audit_guid"
                                    },
                                    {
                                        "name": "create_date"
                                    },
                                    {
                                        "name": "modify_date"
                                    },
                                    {
                                        "name": "principal_id"
                                    },
                                    {
                                        "name": "type"
                                    },
                                    {
                                        "name": "type_desc"
                                    },
                                    {
                                        "name": "on_failure"
                                    },
                                    {
                                        "name": "on_failure_desc"
                                    },
                                    {
                                        "name": "is_state_enabled"
                                    },
                                    {
                                        "name": "queue_delay"
                                    },
                                    {
                                        "name": "predicate"
                                    }
                                ]
                            },
                            "data": [
                                {
                                    "0": "65537",
                                    "1": "MIASQL_Audit",
                                    "2": "bae1d0c8-8ad5-43c4-b78e-56fc921712b7",
                                    "3": "2019-07-07 13:16:40.737",
                                    "4": "2019-07-07 13:16:40.737",
                                    "5": "1",
                                    "6": "FL",
                                    "7": "FILE",
                                    "8": "0",
                                    "9": "CONTINUE",
                                    "10": "1",
                                    "11": "5000",
                                    "12": "NULL"
                                }
                            ]
                        },
                        "text/html": "<table><tr><th>audit_id</th><th>name</th><th>audit_guid</th><th>create_date</th><th>modify_date</th><th>principal_id</th><th>type</th><th>type_desc</th><th>on_failure</th><th>on_failure_desc</th><th>is_state_enabled</th><th>queue_delay</th><th>predicate</th></tr><tr><td>65537</td><td>MIASQL_Audit</td><td>bae1d0c8-8ad5-43c4-b78e-56fc921712b7</td><td>2019-07-07 13:16:40.737</td><td>2019-07-07 13:16:40.737</td><td>1</td><td>FL</td><td>FILE</td><td>0</td><td>CONTINUE</td><td>1</td><td>5000</td><td>NULL</td></tr></table>"
                    }
                }
            ],
            "execution_count": 7
        },
        {
            "cell_type": "code",
            "source": "SELECT * FROM sys.server_audit_specifications;\r\n\r\nSELECT *\r\nFROM sys.server_audit_specification_details AS sd\r\nJOIN sys.dm_audit_actions AS aa\r\nON aa.name = sd.audit_action_name COLLATE Latin1_General_CI_AS_KS_WS",
            "metadata": {},
            "outputs": [
                {
                    "output_type": "display_data",
                    "data": {
                        "text/html": "(1 row affected)"
                    },
                    "metadata": {}
                },
                {
                    "output_type": "display_data",
                    "data": {
                        "text/html": "(2 rows affected)"
                    },
                    "metadata": {}
                },
                {
                    "output_type": "display_data",
                    "data": {
                        "text/html": "Total execution time: 00:00:00.031"
                    },
                    "metadata": {}
                },
                {
                    "output_type": "execute_result",
                    "metadata": {},
                    "execution_count": 8,
                    "data": {
                        "application/vnd.dataresource+json": {
                            "schema": {
                                "fields": [
                                    {
                                        "name": "server_specification_id"
                                    },
                                    {
                                        "name": "name"
                                    },
                                    {
                                        "name": "create_date"
                                    },
                                    {
                                        "name": "modify_date"
                                    },
                                    {
                                        "name": "audit_guid"
                                    },
                                    {
                                        "name": "is_state_enabled"
                                    }
                                ]
                            },
                            "data": [
                                {
                                    "0": "65536",
                                    "1": "AuditLogins",
                                    "2": "2019-07-07 13:18:06.460",
                                    "3": "2019-07-07 13:18:06.460",
                                    "4": "bae1d0c8-8ad5-43c4-b78e-56fc921712b7",
                                    "5": "1"
                                }
                            ]
                        },
                        "text/html": "<table><tr><th>server_specification_id</th><th>name</th><th>create_date</th><th>modify_date</th><th>audit_guid</th><th>is_state_enabled</th></tr><tr><td>65536</td><td>AuditLogins</td><td>2019-07-07 13:18:06.460</td><td>2019-07-07 13:18:06.460</td><td>bae1d0c8-8ad5-43c4-b78e-56fc921712b7</td><td>1</td></tr></table>"
                    }
                },
                {
                    "output_type": "execute_result",
                    "metadata": {},
                    "execution_count": 8,
                    "data": {
                        "application/vnd.dataresource+json": {
                            "schema": {
                                "fields": [
                                    {
                                        "name": "server_specification_id"
                                    },
                                    {
                                        "name": "audit_action_id"
                                    },
                                    {
                                        "name": "audit_action_name"
                                    },
                                    {
                                        "name": "class"
                                    },
                                    {
                                        "name": "class_desc"
                                    },
                                    {
                                        "name": "major_id"
                                    },
                                    {
                                        "name": "minor_id"
                                    },
                                    {
                                        "name": "audited_principal_id"
                                    },
                                    {
                                        "name": "audited_result"
                                    },
                                    {
                                        "name": "is_group"
                                    },
                                    {
                                        "name": "action_id"
                                    },
                                    {
                                        "name": "name"
                                    },
                                    {
                                        "name": "class_desc"
                                    },
                                    {
                                        "name": "covering_action_name"
                                    },
                                    {
                                        "name": "parent_class_desc"
                                    },
                                    {
                                        "name": "covering_parent_action_name"
                                    },
                                    {
                                        "name": "configuration_level"
                                    },
                                    {
                                        "name": "containing_group_name"
                                    },
                                    {
                                        "name": "action_in_log"
                                    }
                                ]
                            },
                            "data": [
                                {
                                    "0": "65536",
                                    "1": "LGFL",
                                    "2": "FAILED_LOGIN_GROUP",
                                    "3": "100",
                                    "4": "SERVER",
                                    "5": "0",
                                    "6": "0",
                                    "7": "2",
                                    "8": "SUCCESS AND FAILURE",
                                    "9": "1",
                                    "10": "LGFL",
                                    "11": "FAILED_LOGIN_GROUP",
                                    "12": "SERVER",
                                    "13": "NULL",
                                    "14": "NULL",
                                    "15": "NULL",
                                    "16": "Group",
                                    "17": "FAILED_LOGIN_GROUP",
                                    "18": "0"
                                },
                                {
                                    "0": "65536",
                                    "1": "LGSD",
                                    "2": "SUCCESSFUL_LOGIN_GROUP",
                                    "3": "100",
                                    "4": "SERVER",
                                    "5": "0",
                                    "6": "0",
                                    "7": "2",
                                    "8": "SUCCESS AND FAILURE",
                                    "9": "1",
                                    "10": "LGSD",
                                    "11": "SUCCESSFUL_LOGIN_GROUP",
                                    "12": "SERVER",
                                    "13": "NULL",
                                    "14": "NULL",
                                    "15": "NULL",
                                    "16": "Group",
                                    "17": "SUCCESSFUL_LOGIN_GROUP",
                                    "18": "0"
                                }
                            ]
                        },
                        "text/html": "<table><tr><th>server_specification_id</th><th>audit_action_id</th><th>audit_action_name</th><th>class</th><th>class_desc</th><th>major_id</th><th>minor_id</th><th>audited_principal_id</th><th>audited_result</th><th>is_group</th><th>action_id</th><th>name</th><th>class_desc</th><th>covering_action_name</th><th>parent_class_desc</th><th>covering_parent_action_name</th><th>configuration_level</th><th>containing_group_name</th><th>action_in_log</th></tr><tr><td>65536</td><td>LGFL</td><td>FAILED_LOGIN_GROUP</td><td>100</td><td>SERVER</td><td>0</td><td>0</td><td>2</td><td>SUCCESS AND FAILURE</td><td>1</td><td>LGFL</td><td>FAILED_LOGIN_GROUP</td><td>SERVER</td><td>NULL</td><td>NULL</td><td>NULL</td><td>Group</td><td>FAILED_LOGIN_GROUP</td><td>0</td></tr><tr><td>65536</td><td>LGSD</td><td>SUCCESSFUL_LOGIN_GROUP</td><td>100</td><td>SERVER</td><td>0</td><td>0</td><td>2</td><td>SUCCESS AND FAILURE</td><td>1</td><td>LGSD</td><td>SUCCESSFUL_LOGIN_GROUP</td><td>SERVER</td><td>NULL</td><td>NULL</td><td>NULL</td><td>Group</td><td>SUCCESSFUL_LOGIN_GROUP</td><td>0</td></tr></table>"
                    }
                }
            ],
            "execution_count": 8
        },
        {
            "cell_type": "code",
            "source": "SELECT * FROM sys.database_audit_specifications;\r\n\r\nSELECT *\r\nFROM sys.database_audit_specification_details AS sd\r\nJOIN sys.dm_audit_actions AS aa\r\nON aa.name = sd.audit_action_name COLLATE Latin1_General_CI_AS_KS_WS\r\nAND aa.class_desc = sd.class_desc COLLATE Latin1_General_CI_AS_KS_WS",
            "metadata": {},
            "outputs": [
                {
                    "output_type": "display_data",
                    "data": {
                        "text/html": "(1 row affected)"
                    },
                    "metadata": {}
                },
                {
                    "output_type": "display_data",
                    "data": {
                        "text/html": "(5 rows affected)"
                    },
                    "metadata": {}
                },
                {
                    "output_type": "display_data",
                    "data": {
                        "text/html": "Total execution time: 00:00:00.031"
                    },
                    "metadata": {}
                },
                {
                    "output_type": "execute_result",
                    "metadata": {},
                    "execution_count": 9,
                    "data": {
                        "application/vnd.dataresource+json": {
                            "schema": {
                                "fields": [
                                    {
                                        "name": "database_specification_id"
                                    },
                                    {
                                        "name": "name"
                                    },
                                    {
                                        "name": "create_date"
                                    },
                                    {
                                        "name": "modify_date"
                                    },
                                    {
                                        "name": "audit_guid"
                                    },
                                    {
                                        "name": "is_state_enabled"
                                    }
                                ]
                            },
                            "data": [
                                {
                                    "0": "65536",
                                    "1": "salesapp1_audit_spec",
                                    "2": "2019-07-07 13:18:32.347",
                                    "3": "2019-07-07 13:18:32.347",
                                    "4": "bae1d0c8-8ad5-43c4-b78e-56fc921712b7",
                                    "5": "1"
                                }
                            ]
                        },
                        "text/html": "<table><tr><th>database_specification_id</th><th>name</th><th>create_date</th><th>modify_date</th><th>audit_guid</th><th>is_state_enabled</th></tr><tr><td>65536</td><td>salesapp1_audit_spec</td><td>2019-07-07 13:18:32.347</td><td>2019-07-07 13:18:32.347</td><td>bae1d0c8-8ad5-43c4-b78e-56fc921712b7</td><td>1</td></tr></table>"
                    }
                },
                {
                    "output_type": "execute_result",
                    "metadata": {},
                    "execution_count": 9,
                    "data": {
                        "application/vnd.dataresource+json": {
                            "schema": {
                                "fields": [
                                    {
                                        "name": "database_specification_id"
                                    },
                                    {
                                        "name": "audit_action_id"
                                    },
                                    {
                                        "name": "audit_action_name"
                                    },
                                    {
                                        "name": "class"
                                    },
                                    {
                                        "name": "class_desc"
                                    },
                                    {
                                        "name": "major_id"
                                    },
                                    {
                                        "name": "minor_id"
                                    },
                                    {
                                        "name": "audited_principal_id"
                                    },
                                    {
                                        "name": "audited_result"
                                    },
                                    {
                                        "name": "is_group"
                                    },
                                    {
                                        "name": "action_id"
                                    },
                                    {
                                        "name": "name"
                                    },
                                    {
                                        "name": "class_desc"
                                    },
                                    {
                                        "name": "covering_action_name"
                                    },
                                    {
                                        "name": "parent_class_desc"
                                    },
                                    {
                                        "name": "covering_parent_action_name"
                                    },
                                    {
                                        "name": "configuration_level"
                                    },
                                    {
                                        "name": "containing_group_name"
                                    },
                                    {
                                        "name": "action_in_log"
                                    }
                                ]
                            },
                            "data": [
                                {
                                    "0": "65536",
                                    "1": "GRO ",
                                    "2": "SCHEMA_OBJECT_PERMISSION_CHANGE_GROUP",
                                    "3": "0",
                                    "4": "DATABASE",
                                    "5": "0",
                                    "6": "0",
                                    "7": "0",
                                    "8": "SUCCESS AND FAILURE",
                                    "9": "1",
                                    "10": "GRO ",
                                    "11": "SCHEMA_OBJECT_PERMISSION_CHANGE_GROUP",
                                    "12": "DATABASE",
                                    "13": "NULL",
                                    "14": "SERVER",
                                    "15": "SCHEMA_OBJECT_PERMISSION_CHANGE_GROUP",
                                    "16": "Group",
                                    "17": "SCHEMA_OBJECT_PERMISSION_CHANGE_GROUP",
                                    "18": "0"
                                },
                                {
                                    "0": "65536",
                                    "1": "IN  ",
                                    "2": "INSERT",
                                    "3": "0",
                                    "4": "DATABASE",
                                    "5": "0",
                                    "6": "0",
                                    "7": "0",
                                    "8": "SUCCESS AND FAILURE",
                                    "9": "0",
                                    "10": "IN  ",
                                    "11": "INSERT",
                                    "12": "DATABASE",
                                    "13": "SCHEMA_OBJECT_ACCESS_GROUP",
                                    "14": "SERVER",
                                    "15": "NULL",
                                    "16": "Action",
                                    "17": "SCHEMA_OBJECT_ACCESS_GROUP",
                                    "18": "0"
                                },
                                {
                                    "0": "65536",
                                    "1": "MNO ",
                                    "2": "SCHEMA_OBJECT_CHANGE_GROUP",
                                    "3": "0",
                                    "4": "DATABASE",
                                    "5": "0",
                                    "6": "0",
                                    "7": "0",
                                    "8": "SUCCESS AND FAILURE",
                                    "9": "1",
                                    "10": "MNO ",
                                    "11": "SCHEMA_OBJECT_CHANGE_GROUP",
                                    "12": "DATABASE",
                                    "13": "NULL",
                                    "14": "SERVER",
                                    "15": "SCHEMA_OBJECT_CHANGE_GROUP",
                                    "16": "Group",
                                    "17": "SCHEMA_OBJECT_CHANGE_GROUP",
                                    "18": "0"
                                },
                                {
                                    "0": "65536",
                                    "1": "UP  ",
                                    "2": "UPDATE",
                                    "3": "0",
                                    "4": "DATABASE",
                                    "5": "0",
                                    "6": "0",
                                    "7": "0",
                                    "8": "SUCCESS AND FAILURE",
                                    "9": "0",
                                    "10": "UP  ",
                                    "11": "UPDATE",
                                    "12": "DATABASE",
                                    "13": "SCHEMA_OBJECT_ACCESS_GROUP",
                                    "14": "SERVER",
                                    "15": "NULL",
                                    "16": "Action",
                                    "17": "SCHEMA_OBJECT_ACCESS_GROUP",
                                    "18": "0"
                                },
                                {
                                    "0": "65536",
                                    "1": "SL  ",
                                    "2": "SELECT",
                                    "3": "3",
                                    "4": "SCHEMA",
                                    "5": "5",
                                    "6": "0",
                                    "7": "0",
                                    "8": "SUCCESS AND FAILURE",
                                    "9": "0",
                                    "10": "SL  ",
                                    "11": "SELECT",
                                    "12": "SCHEMA",
                                    "13": "NULL",
                                    "14": "DATABASE",
                                    "15": "SELECT",
                                    "16": "Action",
                                    "17": "SCHEMA_OBJECT_ACCESS_GROUP",
                                    "18": "0"
                                }
                            ]
                        },
                        "text/html": "<table><tr><th>database_specification_id</th><th>audit_action_id</th><th>audit_action_name</th><th>class</th><th>class_desc</th><th>major_id</th><th>minor_id</th><th>audited_principal_id</th><th>audited_result</th><th>is_group</th><th>action_id</th><th>name</th><th>class_desc</th><th>covering_action_name</th><th>parent_class_desc</th><th>covering_parent_action_name</th><th>configuration_level</th><th>containing_group_name</th><th>action_in_log</th></tr><tr><td>65536</td><td>GRO </td><td>SCHEMA_OBJECT_PERMISSION_CHANGE_GROUP</td><td>0</td><td>DATABASE</td><td>0</td><td>0</td><td>0</td><td>SUCCESS AND FAILURE</td><td>1</td><td>GRO </td><td>SCHEMA_OBJECT_PERMISSION_CHANGE_GROUP</td><td>DATABASE</td><td>NULL</td><td>SERVER</td><td>SCHEMA_OBJECT_PERMISSION_CHANGE_GROUP</td><td>Group</td><td>SCHEMA_OBJECT_PERMISSION_CHANGE_GROUP</td><td>0</td></tr><tr><td>65536</td><td>IN  </td><td>INSERT</td><td>0</td><td>DATABASE</td><td>0</td><td>0</td><td>0</td><td>SUCCESS AND FAILURE</td><td>0</td><td>IN  </td><td>INSERT</td><td>DATABASE</td><td>SCHEMA_OBJECT_ACCESS_GROUP</td><td>SERVER</td><td>NULL</td><td>Action</td><td>SCHEMA_OBJECT_ACCESS_GROUP</td><td>0</td></tr><tr><td>65536</td><td>MNO </td><td>SCHEMA_OBJECT_CHANGE_GROUP</td><td>0</td><td>DATABASE</td><td>0</td><td>0</td><td>0</td><td>SUCCESS AND FAILURE</td><td>1</td><td>MNO </td><td>SCHEMA_OBJECT_CHANGE_GROUP</td><td>DATABASE</td><td>NULL</td><td>SERVER</td><td>SCHEMA_OBJECT_CHANGE_GROUP</td><td>Group</td><td>SCHEMA_OBJECT_CHANGE_GROUP</td><td>0</td></tr><tr><td>65536</td><td>UP  </td><td>UPDATE</td><td>0</td><td>DATABASE</td><td>0</td><td>0</td><td>0</td><td>SUCCESS AND FAILURE</td><td>0</td><td>UP  </td><td>UPDATE</td><td>DATABASE</td><td>SCHEMA_OBJECT_ACCESS_GROUP</td><td>SERVER</td><td>NULL</td><td>Action</td><td>SCHEMA_OBJECT_ACCESS_GROUP</td><td>0</td></tr><tr><td>65536</td><td>SL  </td><td>SELECT</td><td>3</td><td>SCHEMA</td><td>5</td><td>0</td><td>0</td><td>SUCCESS AND FAILURE</td><td>0</td><td>SL  </td><td>SELECT</td><td>SCHEMA</td><td>NULL</td><td>DATABASE</td><td>SELECT</td><td>Action</td><td>SCHEMA_OBJECT_ACCESS_GROUP</td><td>0</td></tr></table>"
                    }
                }
            ],
            "execution_count": 9
        },
        {
            "cell_type": "code",
            "source": "USE master;\r\nGO\r\nALTER SERVER AUDIT MIASQL_Audit WITH (STATE = OFF);\r\nDROP SERVER AUDIT MIASQL_Audit;\r\nGO\r\n\r\nALTER SERVER AUDIT SPECIFICATION AuditLogins WITH (STATE = OFF);\r\nDROP SERVER AUDIT SPECIFICATION AuditLogins\r\nGO\r\n\r\nUSE salesapp1;\r\nGO\r\nALTER DATABASE AUDIT SPECIFICATION salesapp1_audit_spec WITH (STATE = OFF);\r\nDROP DATABASE AUDIT SPECIFICATION salesapp1_audit_spec\r\nGO",
            "metadata": {},
            "outputs": [
                {
                    "output_type": "display_data",
                    "data": {
                        "text/html": "Commands completed successfully."
                    },
                    "metadata": {}
                },
                {
                    "output_type": "display_data",
                    "data": {
                        "text/html": "Commands completed successfully."
                    },
                    "metadata": {}
                },
                {
                    "output_type": "display_data",
                    "data": {
                        "text/html": "Commands completed successfully."
                    },
                    "metadata": {}
                },
                {
                    "output_type": "display_data",
                    "data": {
                        "text/html": "Commands completed successfully."
                    },
                    "metadata": {}
                },
                {
                    "output_type": "display_data",
                    "data": {
                        "text/html": "Commands completed successfully."
                    },
                    "metadata": {}
                },
                {
                    "output_type": "display_data",
                    "data": {
                        "text/html": "Total execution time: 00:00:00.071"
                    },
                    "metadata": {}
                }
            ],
            "execution_count": 0
        }
    ]
}