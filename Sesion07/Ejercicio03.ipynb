{
    "metadata": {
        "kernelspec": {
            "name": "SQL",
            "display_name": "SQL",
            "language": "sql"
        },
        "language_info": {
            "name": "sql",
            "version": ""
        }
    },
    "nbformat_minor": 2,
    "nbformat": 4,
    "cells": [
        {
            "cell_type": "code",
            "source": "USE master;\r\nGO\r\nCREATE SERVER AUDIT Custom_Audit \r\n    TO FILE (FILEPATH='D:\\Data\\')\r\n    WITH (QUEUE_DELAY = 5000);\r\nGO\r\nALTER SERVER AUDIT Custom_Audit WITH (STATE = ON);\r\nGO",
            "metadata": {},
            "outputs": [
                {
                    "output_type": "display_data",
                    "data": {
                        "text/html": "Commands completed successfully."
                    },
                    "metadata": {}
                },
                {
                    "output_type": "display_data",
                    "data": {
                        "text/html": "Commands completed successfully."
                    },
                    "metadata": {}
                },
                {
                    "output_type": "display_data",
                    "data": {
                        "text/html": "Commands completed successfully."
                    },
                    "metadata": {}
                },
                {
                    "output_type": "display_data",
                    "data": {
                        "text/html": "Total execution time: 00:00:00.004"
                    },
                    "metadata": {}
                }
            ],
            "execution_count": 2
        },
        {
            "cell_type": "code",
            "source": "CREATE SERVER AUDIT SPECIFICATION UserDefinedEvents\r\nFOR SERVER AUDIT Custom_Audit\r\nADD (USER_DEFINED_AUDIT_GROUP)\r\nWITH (STATE = ON);\r\nGO",
            "metadata": {},
            "outputs": [
                {
                    "output_type": "display_data",
                    "data": {
                        "text/html": "Commands completed successfully."
                    },
                    "metadata": {}
                },
                {
                    "output_type": "display_data",
                    "data": {
                        "text/html": "Total execution time: 00:00:00.001"
                    },
                    "metadata": {}
                }
            ],
            "execution_count": 3
        },
        {
            "cell_type": "code",
            "source": "EXEC sp_audit_write @user_defined_event_id = 999, \r\n                    @succeeded = 1,\r\n                    @user_defined_information = N'Example call to sp_audit_write';",
            "metadata": {},
            "outputs": [
                {
                    "output_type": "display_data",
                    "data": {
                        "text/html": "Commands completed successfully."
                    },
                    "metadata": {}
                },
                {
                    "output_type": "display_data",
                    "data": {
                        "text/html": "Total execution time: 00:00:00"
                    },
                    "metadata": {}
                }
            ],
            "execution_count": 4
        },
        {
            "cell_type": "code",
            "source": "\r\nSELECT user_defined_event_id, succeeded, user_defined_information\r\nFROM sys.fn_get_audit_file ('D:\\Data\\Custom_Audit*',default,default)\r\nWHERE user_defined_event_id = 999;",
            "metadata": {},
            "outputs": [
                {
                    "output_type": "display_data",
                    "data": {
                        "text/html": "(1 row affected)"
                    },
                    "metadata": {}
                },
                {
                    "output_type": "display_data",
                    "data": {
                        "text/html": "Total execution time: 00:00:00.030"
                    },
                    "metadata": {}
                },
                {
                    "output_type": "execute_result",
                    "metadata": {},
                    "execution_count": 6,
                    "data": {
                        "application/vnd.dataresource+json": {
                            "schema": {
                                "fields": [
                                    {
                                        "name": "user_defined_event_id"
                                    },
                                    {
                                        "name": "succeeded"
                                    },
                                    {
                                        "name": "user_defined_information"
                                    }
                                ]
                            },
                            "data": [
                                {
                                    "0": "999",
                                    "1": "1",
                                    "2": "Example call to sp_audit_write"
                                }
                            ]
                        },
                        "text/html": "<table><tr><th>user_defined_event_id</th><th>succeeded</th><th>user_defined_information</th></tr><tr><td>999</td><td>1</td><td>Example call to sp_audit_write</td></tr></table>"
                    }
                }
            ],
            "execution_count": 6
        },
        {
            "cell_type": "code",
            "source": "USE salesapp1;\r\nGO\r\n\r\nCREATE PROC usp_OrderDetailDiscount\r\n\t@orderid int,\r\n\t@productid int,\r\n\t@discount numeric(4,3)\r\nAS\r\n\tSET NOCOUNT ON\r\n\r\n\tIF @discount > 0.3\r\n\tBEGIN\r\n\t\tDECLARE @msg nvarchar(4000) = \r\n\t\t  CONCAT('Order=',@orderid,':Product=',@productid,\r\n\t\t         ':discount=', @discount)\r\n\r\n\t\t\r\n\t\tEXEC sp_audit_write @user_defined_event_id = 998, \r\n\t\t\t\t            @succeeded = 1,\r\n\t\t\t\t\t\t    @user_defined_information = @msg;\r\n\tEND\r\n\r\n\tUPDATE Sales.OrderDetails\r\n\tSET discount = @discount\r\n\tWHERE orderid = @orderid\r\n\tAND productid = @productid\r\nGO",
            "metadata": {},
            "outputs": [
                {
                    "output_type": "display_data",
                    "data": {
                        "text/html": "Commands completed successfully."
                    },
                    "metadata": {}
                },
                {
                    "output_type": "display_data",
                    "data": {
                        "text/html": "Commands completed successfully."
                    },
                    "metadata": {}
                },
                {
                    "output_type": "display_data",
                    "data": {
                        "text/html": "Total execution time: 00:00:00.003"
                    },
                    "metadata": {}
                }
            ],
            "execution_count": 7
        },
        {
            "cell_type": "code",
            "source": "\r\nEXEC dbo.usp_OrderDetailDiscount @orderid = 10248,@productid =\t11, @discount = 0.05\r\nEXEC dbo.usp_OrderDetailDiscount @orderid = 10248,@productid =\t42, @discount = 0.45",
            "metadata": {},
            "outputs": [
                {
                    "output_type": "display_data",
                    "data": {
                        "text/html": "Commands completed successfully."
                    },
                    "metadata": {}
                },
                {
                    "output_type": "display_data",
                    "data": {
                        "text/html": "Total execution time: 00:00:00.395"
                    },
                    "metadata": {}
                }
            ],
            "execution_count": 8
        },
        {
            "cell_type": "code",
            "source": "SELECT user_defined_event_id, succeeded, user_defined_information\r\nFROM sys.fn_get_audit_file ('D:\\Data\\Custom_Audit*',default,default)\r\nWHERE user_defined_event_id = 998;",
            "metadata": {},
            "outputs": [
                {
                    "output_type": "display_data",
                    "data": {
                        "text/html": "(1 row affected)"
                    },
                    "metadata": {}
                },
                {
                    "output_type": "display_data",
                    "data": {
                        "text/html": "Total execution time: 00:00:00.030"
                    },
                    "metadata": {}
                },
                {
                    "output_type": "execute_result",
                    "metadata": {},
                    "execution_count": 10,
                    "data": {
                        "application/vnd.dataresource+json": {
                            "schema": {
                                "fields": [
                                    {
                                        "name": "user_defined_event_id"
                                    },
                                    {
                                        "name": "succeeded"
                                    },
                                    {
                                        "name": "user_defined_information"
                                    }
                                ]
                            },
                            "data": [
                                {
                                    "0": "998",
                                    "1": "1",
                                    "2": "Order=10248:Product=42:discount=0.450"
                                }
                            ]
                        },
                        "text/html": "<table><tr><th>user_defined_event_id</th><th>succeeded</th><th>user_defined_information</th></tr><tr><td>998</td><td>1</td><td>Order=10248:Product=42:discount=0.450</td></tr></table>"
                    }
                }
            ],
            "execution_count": 10
        },
        {
            "cell_type": "code",
            "source": "USE master;\r\nGO\r\nALTER SERVER AUDIT Custom_Audit WITH (STATE = OFF);\r\nDROP SERVER AUDIT Custom_Audit;\r\nGO\r\n\r\nALTER SERVER AUDIT SPECIFICATION UserDefinedEvents WITH (STATE = OFF);\r\nDROP SERVER AUDIT SPECIFICATION UserDefinedEvents\r\nGO",
            "metadata": {},
            "outputs": [
                {
                    "output_type": "display_data",
                    "data": {
                        "text/html": "Commands completed successfully."
                    },
                    "metadata": {}
                },
                {
                    "output_type": "display_data",
                    "data": {
                        "text/html": "Commands completed successfully."
                    },
                    "metadata": {}
                },
                {
                    "output_type": "display_data",
                    "data": {
                        "text/html": "Commands completed successfully."
                    },
                    "metadata": {}
                },
                {
                    "output_type": "display_data",
                    "data": {
                        "text/html": "Total execution time: 00:00:00.007"
                    },
                    "metadata": {}
                }
            ],
            "execution_count": 0
        }
    ]
}