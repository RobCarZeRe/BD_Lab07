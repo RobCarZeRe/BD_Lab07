{
    "metadata": {
        "kernelspec": {
            "name": "SQL",
            "display_name": "SQL",
            "language": "sql"
        },
        "language_info": {
            "name": "sql",
            "version": ""
        }
    },
    "nbformat_minor": 2,
    "nbformat": 4,
    "cells": [
        {
            "cell_type": "code",
            "source": "CREATE TABLE dbo.Manager\r\n( ManagerId int NOT NULL PRIMARY KEY,\r\n  ManagerName nvarchar(50) NOT NULL,\r\n  ManagerPassword varbinary(200) NOT NULL,\r\n  ValidFrom datetime2 GENERATED ALWAYS AS ROW START NOT NULL, \r\n  ValidTo datetime2 GENERATED ALWAYS AS ROW END NOT NULL, \r\n  ChangedBy sysname NOT NULL CONSTRAINT DF_Employee_ChangedBy DEFAULT  (SUSER_SNAME()),\r\n  PERIOD FOR SYSTEM_TIME (ValidFrom, ValidTo) \r\n) WITH (SYSTEM_VERSIONING = ON (HISTORY_TABLE = dbo.ManagerHistory));\r\nGO",
            "metadata": {},
            "outputs": [
                {
                    "output_type": "display_data",
                    "data": {
                        "text/html": "Commands completed successfully."
                    },
                    "metadata": {}
                },
                {
                    "output_type": "display_data",
                    "data": {
                        "text/html": "Total execution time: 00:00:00.029"
                    },
                    "metadata": {}
                }
            ],
            "execution_count": 1
        },
        {
            "cell_type": "code",
            "source": "INSERT dbo.Manager (ManagerId, ManagerName, ManagerPassword)\r\nVALUES (1, N'superuser', 0x3EED6B62548EC64A90E5D5D186FC9E5C),\r\n(2, N'PeledYael', 0x19EF561D56A24D42A54169BD3DE23652),\r\n(3, N'DavisSara', 0xD42025F8D7A67248AC36C5C8E955FA71);\r\nGO",
            "metadata": {},
            "outputs": [
                {
                    "output_type": "display_data",
                    "data": {
                        "text/html": "(3 rows affected)"
                    },
                    "metadata": {}
                },
                {
                    "output_type": "display_data",
                    "data": {
                        "text/html": "Total execution time: 00:00:00.002"
                    },
                    "metadata": {}
                }
            ],
            "execution_count": 2
        },
        {
            "cell_type": "code",
            "source": "\r\nUPDATE dbo.Manager \r\nSET ManagerPassword = 0x3EED6B62548EC64A90E5D5D186FCFFFF,\r\nManagerName = 'administrator'\r\nWHERE ManagerId = 1",
            "metadata": {},
            "outputs": [
                {
                    "output_type": "display_data",
                    "data": {
                        "text/html": "(1 row affected)"
                    },
                    "metadata": {}
                },
                {
                    "output_type": "display_data",
                    "data": {
                        "text/html": "Total execution time: 00:00:00.002"
                    },
                    "metadata": {}
                }
            ],
            "execution_count": 3
        },
        {
            "cell_type": "code",
            "source": "SELECT * FROM dbo.Manager;\r\n\r\nSELECT * FROM dbo.ManagerHistory;",
            "metadata": {},
            "outputs": [
                {
                    "output_type": "display_data",
                    "data": {
                        "text/html": "(3 rows affected)"
                    },
                    "metadata": {}
                },
                {
                    "output_type": "display_data",
                    "data": {
                        "text/html": "(1 row affected)"
                    },
                    "metadata": {}
                },
                {
                    "output_type": "display_data",
                    "data": {
                        "text/html": "Total execution time: 00:00:00.075"
                    },
                    "metadata": {}
                },
                {
                    "output_type": "execute_result",
                    "metadata": {},
                    "execution_count": 4,
                    "data": {
                        "application/vnd.dataresource+json": {
                            "schema": {
                                "fields": [
                                    {
                                        "name": "ManagerId"
                                    },
                                    {
                                        "name": "ManagerName"
                                    },
                                    {
                                        "name": "ManagerPassword"
                                    },
                                    {
                                        "name": "ValidFrom"
                                    },
                                    {
                                        "name": "ValidTo"
                                    },
                                    {
                                        "name": "ChangedBy"
                                    }
                                ]
                            },
                            "data": [
                                {
                                    "0": "1",
                                    "1": "administrator",
                                    "2": "0x3EED6B62548EC64A90E5D5D186FCFFFF",
                                    "3": "2019-07-07 17:58:01.5869477",
                                    "4": "9999-12-31 23:59:59.9999999",
                                    "5": "DESKTOP-G2QLUNH\\Usuario"
                                },
                                {
                                    "0": "2",
                                    "1": "PeledYael",
                                    "2": "0x19EF561D56A24D42A54169BD3DE23652",
                                    "3": "2019-07-07 17:57:08.5169213",
                                    "4": "9999-12-31 23:59:59.9999999",
                                    "5": "DESKTOP-G2QLUNH\\Usuario"
                                },
                                {
                                    "0": "3",
                                    "1": "DavisSara",
                                    "2": "0xD42025F8D7A67248AC36C5C8E955FA71",
                                    "3": "2019-07-07 17:57:08.5169213",
                                    "4": "9999-12-31 23:59:59.9999999",
                                    "5": "DESKTOP-G2QLUNH\\Usuario"
                                }
                            ]
                        },
                        "text/html": "<table><tr><th>ManagerId</th><th>ManagerName</th><th>ManagerPassword</th><th>ValidFrom</th><th>ValidTo</th><th>ChangedBy</th></tr><tr><td>1</td><td>administrator</td><td>0x3EED6B62548EC64A90E5D5D186FCFFFF</td><td>2019-07-07 17:58:01.5869477</td><td>9999-12-31 23:59:59.9999999</td><td>DESKTOP-G2QLUNH\\Usuario</td></tr><tr><td>2</td><td>PeledYael</td><td>0x19EF561D56A24D42A54169BD3DE23652</td><td>2019-07-07 17:57:08.5169213</td><td>9999-12-31 23:59:59.9999999</td><td>DESKTOP-G2QLUNH\\Usuario</td></tr><tr><td>3</td><td>DavisSara</td><td>0xD42025F8D7A67248AC36C5C8E955FA71</td><td>2019-07-07 17:57:08.5169213</td><td>9999-12-31 23:59:59.9999999</td><td>DESKTOP-G2QLUNH\\Usuario</td></tr></table>"
                    }
                },
                {
                    "output_type": "execute_result",
                    "metadata": {},
                    "execution_count": 4,
                    "data": {
                        "application/vnd.dataresource+json": {
                            "schema": {
                                "fields": [
                                    {
                                        "name": "ManagerId"
                                    },
                                    {
                                        "name": "ManagerName"
                                    },
                                    {
                                        "name": "ManagerPassword"
                                    },
                                    {
                                        "name": "ValidFrom"
                                    },
                                    {
                                        "name": "ValidTo"
                                    },
                                    {
                                        "name": "ChangedBy"
                                    }
                                ]
                            },
                            "data": [
                                {
                                    "0": "1",
                                    "1": "superuser",
                                    "2": "0x3EED6B62548EC64A90E5D5D186FC9E5C",
                                    "3": "2019-07-07 17:57:08.5169213",
                                    "4": "2019-07-07 17:58:01.5869477",
                                    "5": "DESKTOP-G2QLUNH\\Usuario"
                                }
                            ]
                        },
                        "text/html": "<table><tr><th>ManagerId</th><th>ManagerName</th><th>ManagerPassword</th><th>ValidFrom</th><th>ValidTo</th><th>ChangedBy</th></tr><tr><td>1</td><td>superuser</td><td>0x3EED6B62548EC64A90E5D5D186FC9E5C</td><td>2019-07-07 17:57:08.5169213</td><td>2019-07-07 17:58:01.5869477</td><td>DESKTOP-G2QLUNH\\Usuario</td></tr></table>"
                    }
                }
            ],
            "execution_count": 4
        },
        {
            "cell_type": "code",
            "source": "SELECT * FROM dbo.Manager \r\nFOR SYSTEM_TIME ALL;",
            "metadata": {},
            "outputs": [
                {
                    "output_type": "display_data",
                    "data": {
                        "text/html": "(4 rows affected)"
                    },
                    "metadata": {}
                },
                {
                    "output_type": "display_data",
                    "data": {
                        "text/html": "Total execution time: 00:00:00.006"
                    },
                    "metadata": {}
                },
                {
                    "output_type": "execute_result",
                    "metadata": {},
                    "execution_count": 5,
                    "data": {
                        "application/vnd.dataresource+json": {
                            "schema": {
                                "fields": [
                                    {
                                        "name": "ManagerId"
                                    },
                                    {
                                        "name": "ManagerName"
                                    },
                                    {
                                        "name": "ManagerPassword"
                                    },
                                    {
                                        "name": "ValidFrom"
                                    },
                                    {
                                        "name": "ValidTo"
                                    },
                                    {
                                        "name": "ChangedBy"
                                    }
                                ]
                            },
                            "data": [
                                {
                                    "0": "1",
                                    "1": "administrator",
                                    "2": "0x3EED6B62548EC64A90E5D5D186FCFFFF",
                                    "3": "2019-07-07 17:58:01.5869477",
                                    "4": "9999-12-31 23:59:59.9999999",
                                    "5": "DESKTOP-G2QLUNH\\Usuario"
                                },
                                {
                                    "0": "2",
                                    "1": "PeledYael",
                                    "2": "0x19EF561D56A24D42A54169BD3DE23652",
                                    "3": "2019-07-07 17:57:08.5169213",
                                    "4": "9999-12-31 23:59:59.9999999",
                                    "5": "DESKTOP-G2QLUNH\\Usuario"
                                },
                                {
                                    "0": "3",
                                    "1": "DavisSara",
                                    "2": "0xD42025F8D7A67248AC36C5C8E955FA71",
                                    "3": "2019-07-07 17:57:08.5169213",
                                    "4": "9999-12-31 23:59:59.9999999",
                                    "5": "DESKTOP-G2QLUNH\\Usuario"
                                },
                                {
                                    "0": "1",
                                    "1": "superuser",
                                    "2": "0x3EED6B62548EC64A90E5D5D186FC9E5C",
                                    "3": "2019-07-07 17:57:08.5169213",
                                    "4": "2019-07-07 17:58:01.5869477",
                                    "5": "DESKTOP-G2QLUNH\\Usuario"
                                }
                            ]
                        },
                        "text/html": "<table><tr><th>ManagerId</th><th>ManagerName</th><th>ManagerPassword</th><th>ValidFrom</th><th>ValidTo</th><th>ChangedBy</th></tr><tr><td>1</td><td>administrator</td><td>0x3EED6B62548EC64A90E5D5D186FCFFFF</td><td>2019-07-07 17:58:01.5869477</td><td>9999-12-31 23:59:59.9999999</td><td>DESKTOP-G2QLUNH\\Usuario</td></tr><tr><td>2</td><td>PeledYael</td><td>0x19EF561D56A24D42A54169BD3DE23652</td><td>2019-07-07 17:57:08.5169213</td><td>9999-12-31 23:59:59.9999999</td><td>DESKTOP-G2QLUNH\\Usuario</td></tr><tr><td>3</td><td>DavisSara</td><td>0xD42025F8D7A67248AC36C5C8E955FA71</td><td>2019-07-07 17:57:08.5169213</td><td>9999-12-31 23:59:59.9999999</td><td>DESKTOP-G2QLUNH\\Usuario</td></tr><tr><td>1</td><td>superuser</td><td>0x3EED6B62548EC64A90E5D5D186FC9E5C</td><td>2019-07-07 17:57:08.5169213</td><td>2019-07-07 17:58:01.5869477</td><td>DESKTOP-G2QLUNH\\Usuario</td></tr></table>"
                    }
                }
            ],
            "execution_count": 5
        },
        {
            "cell_type": "code",
            "source": "DECLARE @t datetime2 = (SELECT TOP(1) ValidFrom FROM dbo.ManagerHistory WHERE ManagerId = 1)\r\nSELECT * FROM dbo.Manager \r\nFOR SYSTEM_TIME AS OF @t\r\nGO",
            "metadata": {},
            "outputs": [
                {
                    "output_type": "display_data",
                    "data": {
                        "text/html": "(3 rows affected)"
                    },
                    "metadata": {}
                },
                {
                    "output_type": "display_data",
                    "data": {
                        "text/html": "Total execution time: 00:00:00.007"
                    },
                    "metadata": {}
                },
                {
                    "output_type": "execute_result",
                    "metadata": {},
                    "execution_count": 6,
                    "data": {
                        "application/vnd.dataresource+json": {
                            "schema": {
                                "fields": [
                                    {
                                        "name": "ManagerId"
                                    },
                                    {
                                        "name": "ManagerName"
                                    },
                                    {
                                        "name": "ManagerPassword"
                                    },
                                    {
                                        "name": "ValidFrom"
                                    },
                                    {
                                        "name": "ValidTo"
                                    },
                                    {
                                        "name": "ChangedBy"
                                    }
                                ]
                            },
                            "data": [
                                {
                                    "0": "2",
                                    "1": "PeledYael",
                                    "2": "0x19EF561D56A24D42A54169BD3DE23652",
                                    "3": "2019-07-07 17:57:08.5169213",
                                    "4": "9999-12-31 23:59:59.9999999",
                                    "5": "DESKTOP-G2QLUNH\\Usuario"
                                },
                                {
                                    "0": "3",
                                    "1": "DavisSara",
                                    "2": "0xD42025F8D7A67248AC36C5C8E955FA71",
                                    "3": "2019-07-07 17:57:08.5169213",
                                    "4": "9999-12-31 23:59:59.9999999",
                                    "5": "DESKTOP-G2QLUNH\\Usuario"
                                },
                                {
                                    "0": "1",
                                    "1": "superuser",
                                    "2": "0x3EED6B62548EC64A90E5D5D186FC9E5C",
                                    "3": "2019-07-07 17:57:08.5169213",
                                    "4": "2019-07-07 17:58:01.5869477",
                                    "5": "DESKTOP-G2QLUNH\\Usuario"
                                }
                            ]
                        },
                        "text/html": "<table><tr><th>ManagerId</th><th>ManagerName</th><th>ManagerPassword</th><th>ValidFrom</th><th>ValidTo</th><th>ChangedBy</th></tr><tr><td>2</td><td>PeledYael</td><td>0x19EF561D56A24D42A54169BD3DE23652</td><td>2019-07-07 17:57:08.5169213</td><td>9999-12-31 23:59:59.9999999</td><td>DESKTOP-G2QLUNH\\Usuario</td></tr><tr><td>3</td><td>DavisSara</td><td>0xD42025F8D7A67248AC36C5C8E955FA71</td><td>2019-07-07 17:57:08.5169213</td><td>9999-12-31 23:59:59.9999999</td><td>DESKTOP-G2QLUNH\\Usuario</td></tr><tr><td>1</td><td>superuser</td><td>0x3EED6B62548EC64A90E5D5D186FC9E5C</td><td>2019-07-07 17:57:08.5169213</td><td>2019-07-07 17:58:01.5869477</td><td>DESKTOP-G2QLUNH\\Usuario</td></tr></table>"
                    }
                }
            ],
            "execution_count": 6
        },
        {
            "cell_type": "code",
            "source": "\r\nUPDATE dbo.ManagerHistory SET ChangedBy = 'maliciousUser';\r\nGO\r\nINSERT dbo.ManagerHistory (ManagerId, ManagerName, ManagerPassword)\r\nVALUES (99, N'superuser', 0x3EED6B62548EC64A90E5D5D186FC9E5C)\r\nGO",
            "metadata": {},
            "outputs": [
                {
                    "output_type": "error",
                    "evalue": "Msg 13561, Level 16, State 1, Line 2\r\nCannot update rows in a temporal history table 'master.dbo.ManagerHistory'.",
                    "ename": "",
                    "traceback": []
                },
                {
                    "output_type": "error",
                    "evalue": "Msg 13559, Level 16, State 1, Line 3\r\nCannot insert rows in a temporal history table 'master.dbo.ManagerHistory'.",
                    "ename": "",
                    "traceback": []
                },
                {
                    "output_type": "display_data",
                    "data": {
                        "text/html": "Total execution time: 00:00:00.006"
                    },
                    "metadata": {}
                }
            ],
            "execution_count": 7
        },
        {
            "cell_type": "code",
            "source": "UPDATE dbo.Manager \r\nSET ManagerPassword = 0x0A0B,\r\nManagerName = 'hacked', ChangedBy = 'maliciousUser'\r\nWHERE ManagerId = 1",
            "metadata": {},
            "outputs": [
                {
                    "output_type": "display_data",
                    "data": {
                        "text/html": "(1 row affected)"
                    },
                    "metadata": {}
                },
                {
                    "output_type": "display_data",
                    "data": {
                        "text/html": "Total execution time: 00:00:00.002"
                    },
                    "metadata": {}
                }
            ],
            "execution_count": 8
        },
        {
            "cell_type": "code",
            "source": "SELECT * FROM dbo.Manager;\r\n\r\nSELECT * FROM dbo.ManagerHistory;",
            "metadata": {},
            "outputs": [
                {
                    "output_type": "display_data",
                    "data": {
                        "text/html": "(3 rows affected)"
                    },
                    "metadata": {}
                },
                {
                    "output_type": "display_data",
                    "data": {
                        "text/html": "(2 rows affected)"
                    },
                    "metadata": {}
                },
                {
                    "output_type": "display_data",
                    "data": {
                        "text/html": "Total execution time: 00:00:00.009"
                    },
                    "metadata": {}
                },
                {
                    "output_type": "execute_result",
                    "metadata": {},
                    "execution_count": 9,
                    "data": {
                        "application/vnd.dataresource+json": {
                            "schema": {
                                "fields": [
                                    {
                                        "name": "ManagerId"
                                    },
                                    {
                                        "name": "ManagerName"
                                    },
                                    {
                                        "name": "ManagerPassword"
                                    },
                                    {
                                        "name": "ValidFrom"
                                    },
                                    {
                                        "name": "ValidTo"
                                    },
                                    {
                                        "name": "ChangedBy"
                                    }
                                ]
                            },
                            "data": [
                                {
                                    "0": "1",
                                    "1": "hacked",
                                    "2": "0x0A0B",
                                    "3": "2019-07-07 18:11:05.8272020",
                                    "4": "9999-12-31 23:59:59.9999999",
                                    "5": "maliciousUser"
                                },
                                {
                                    "0": "2",
                                    "1": "PeledYael",
                                    "2": "0x19EF561D56A24D42A54169BD3DE23652",
                                    "3": "2019-07-07 17:57:08.5169213",
                                    "4": "9999-12-31 23:59:59.9999999",
                                    "5": "DESKTOP-G2QLUNH\\Usuario"
                                },
                                {
                                    "0": "3",
                                    "1": "DavisSara",
                                    "2": "0xD42025F8D7A67248AC36C5C8E955FA71",
                                    "3": "2019-07-07 17:57:08.5169213",
                                    "4": "9999-12-31 23:59:59.9999999",
                                    "5": "DESKTOP-G2QLUNH\\Usuario"
                                }
                            ]
                        },
                        "text/html": "<table><tr><th>ManagerId</th><th>ManagerName</th><th>ManagerPassword</th><th>ValidFrom</th><th>ValidTo</th><th>ChangedBy</th></tr><tr><td>1</td><td>hacked</td><td>0x0A0B</td><td>2019-07-07 18:11:05.8272020</td><td>9999-12-31 23:59:59.9999999</td><td>maliciousUser</td></tr><tr><td>2</td><td>PeledYael</td><td>0x19EF561D56A24D42A54169BD3DE23652</td><td>2019-07-07 17:57:08.5169213</td><td>9999-12-31 23:59:59.9999999</td><td>DESKTOP-G2QLUNH\\Usuario</td></tr><tr><td>3</td><td>DavisSara</td><td>0xD42025F8D7A67248AC36C5C8E955FA71</td><td>2019-07-07 17:57:08.5169213</td><td>9999-12-31 23:59:59.9999999</td><td>DESKTOP-G2QLUNH\\Usuario</td></tr></table>"
                    }
                },
                {
                    "output_type": "execute_result",
                    "metadata": {},
                    "execution_count": 9,
                    "data": {
                        "application/vnd.dataresource+json": {
                            "schema": {
                                "fields": [
                                    {
                                        "name": "ManagerId"
                                    },
                                    {
                                        "name": "ManagerName"
                                    },
                                    {
                                        "name": "ManagerPassword"
                                    },
                                    {
                                        "name": "ValidFrom"
                                    },
                                    {
                                        "name": "ValidTo"
                                    },
                                    {
                                        "name": "ChangedBy"
                                    }
                                ]
                            },
                            "data": [
                                {
                                    "0": "1",
                                    "1": "superuser",
                                    "2": "0x3EED6B62548EC64A90E5D5D186FC9E5C",
                                    "3": "2019-07-07 17:57:08.5169213",
                                    "4": "2019-07-07 17:58:01.5869477",
                                    "5": "DESKTOP-G2QLUNH\\Usuario"
                                },
                                {
                                    "0": "1",
                                    "1": "administrator",
                                    "2": "0x3EED6B62548EC64A90E5D5D186FCFFFF",
                                    "3": "2019-07-07 17:58:01.5869477",
                                    "4": "2019-07-07 18:11:05.8272020",
                                    "5": "DESKTOP-G2QLUNH\\Usuario"
                                }
                            ]
                        },
                        "text/html": "<table><tr><th>ManagerId</th><th>ManagerName</th><th>ManagerPassword</th><th>ValidFrom</th><th>ValidTo</th><th>ChangedBy</th></tr><tr><td>1</td><td>superuser</td><td>0x3EED6B62548EC64A90E5D5D186FC9E5C</td><td>2019-07-07 17:57:08.5169213</td><td>2019-07-07 17:58:01.5869477</td><td>DESKTOP-G2QLUNH\\Usuario</td></tr><tr><td>1</td><td>administrator</td><td>0x3EED6B62548EC64A90E5D5D186FCFFFF</td><td>2019-07-07 17:58:01.5869477</td><td>2019-07-07 18:11:05.8272020</td><td>DESKTOP-G2QLUNH\\Usuario</td></tr></table>"
                    }
                }
            ],
            "execution_count": 9
        },
        {
            "cell_type": "code",
            "source": "ALTER TABLE dbo.Manager SET (SYSTEM_VERSIONING = OFF);\r\nDROP TABLE dbo.Manager;\r\nDROP TABLE dbo.ManagerHistory;",
            "metadata": {},
            "outputs": [
                {
                    "output_type": "display_data",
                    "data": {
                        "text/html": "Commands completed successfully."
                    },
                    "metadata": {}
                },
                {
                    "output_type": "display_data",
                    "data": {
                        "text/html": "Total execution time: 00:00:00.005"
                    },
                    "metadata": {}
                }
            ],
            "execution_count": 0
        }
    ]
}